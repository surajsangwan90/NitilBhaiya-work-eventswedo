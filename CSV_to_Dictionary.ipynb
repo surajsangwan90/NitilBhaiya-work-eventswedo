{
 "cells": [
  {
   "cell_type": "code",
   "execution_count": 2,
   "metadata": {},
   "outputs": [
    {
     "name": "stdout",
     "output_type": "stream",
     "text": [
      "<class 'csv.DictReader'>\n"
     ]
    }
   ],
   "source": [
    "import csv\n",
    "import json\n",
    "\n",
    "csvFilePath = r'C:\\Users\\nitil\\Downloads\\Eventswedo.csv'\n",
    "jsonFilePath = 'CSV_convertedfile.json'\n",
    "\n",
    "#Create a Blank Dictionary, later we will save the date into this dictionary\n",
    "data={}\n",
    "with open(csvFilePath, encoding='utf-8') as csvfile:\n",
    "    csvreader=csv.DictReader(csvfile) # DictReader will read the CSV File and convert into dictionary object\n",
    "    print(type(csvreader))\n",
    "    #iterate each row from the dictionary\n",
    "    for rows in csvreader:\n",
    "        # Select category as primary key\n",
    "        key=rows['Category']\n",
    "#         print(key)\n",
    "    # save the each data of row  in blank dictionary\n",
    "        data[key]=rows\n",
    "#         print(data[key])\n",
    "# convert Dictionary file into JSON, and save the file.\n",
    "with open(jsonFilePath,\"w\") as outfile:\n",
    "    json.dump(data,outfile,indent=4)"
   ]
  },
  {
   "cell_type": "code",
   "execution_count": null,
   "metadata": {},
   "outputs": [],
   "source": []
  }
 ],
 "metadata": {
  "kernelspec": {
   "display_name": "Python 3",
   "language": "python",
   "name": "python3"
  },
  "language_info": {
   "codemirror_mode": {
    "name": "ipython",
    "version": 3
   },
   "file_extension": ".py",
   "mimetype": "text/x-python",
   "name": "python",
   "nbconvert_exporter": "python",
   "pygments_lexer": "ipython3",
   "version": "3.8.5"
  }
 },
 "nbformat": 4,
 "nbformat_minor": 4
}
